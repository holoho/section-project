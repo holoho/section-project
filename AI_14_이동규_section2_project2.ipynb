{
  "nbformat": 4,
  "nbformat_minor": 0,
  "metadata": {
    "colab": {
      "name": "Mental google trend.ipynb",
      "private_outputs": true,
      "provenance": [],
      "collapsed_sections": [],
      "authorship_tag": "ABX9TyMpjqryyv5ENS6OjcG32pJJ",
      "include_colab_link": true
    },
    "kernelspec": {
      "name": "python3",
      "display_name": "Python 3"
    },
    "language_info": {
      "name": "python"
    }
  },
  "cells": [
    {
      "cell_type": "markdown",
      "metadata": {
        "id": "view-in-github",
        "colab_type": "text"
      },
      "source": [
        "<a href=\"https://colab.research.google.com/github/holoho/ai_14_section1/blob/main/AI_14_%EC%9D%B4%EB%8F%99%EA%B7%9C_section2_project2.ipynb\" target=\"_parent\"><img src=\"https://colab.research.google.com/assets/colab-badge.svg\" alt=\"Open In Colab\"/></a>"
      ]
    },
    {
      "cell_type": "code",
      "execution_count": null,
      "metadata": {
        "id": "LCA1C4cP6Big"
      },
      "outputs": [],
      "source": [
        "!pip install pytrends"
      ]
    },
    {
      "cell_type": "code",
      "source": [
        "import pandas as pd\n",
        "from pytrends.request import TrendReq\n",
        "import plotly.express as px"
      ],
      "metadata": {
        "id": "9k8lOdgO6GS4"
      },
      "execution_count": null,
      "outputs": []
    },
    {
      "cell_type": "code",
      "source": [
        "pt = TrendReq()"
      ],
      "metadata": {
        "id": "Px_1WAclpzlh"
      },
      "execution_count": null,
      "outputs": []
    },
    {
      "cell_type": "markdown",
      "source": [
        ""
      ],
      "metadata": {
        "id": "ZhpH0cfkBLIe"
      }
    },
    {
      "cell_type": "code",
      "source": [
        "data = pt.get_historical_interest(\n",
        "    ['depression', 'panic attack', 'insomnia', 'loneliness','mental disorder awareness'], \n",
        "    year_start=2019, month_start=1, day_start=20, hour_start=0,\n",
        "    year_end=2022, month_end=7, day_end=22, hour_end=23,\n",
        ");\n",
        "data"
      ],
      "metadata": {
        "id": "g5FieVhsBzpW"
      },
      "execution_count": null,
      "outputs": []
    },
    {
      "cell_type": "code",
      "source": [
        "data1 = data.drop(['isPartial'], axis=1)"
      ],
      "metadata": {
        "id": "GdMAyDuH91Aa"
      },
      "execution_count": null,
      "outputs": []
    },
    {
      "cell_type": "code",
      "source": [
        "data_1 = pt.get_historical_interest(\n",
        "    ['social isolation', 'stress', 'bereavement', 'healthcare','mental illness'], \n",
        "    year_start=2019, month_start=1, day_start=20, hour_start=0,\n",
        "    year_end=2022, month_end=7, day_end=22, hour_end=23,\n",
        ");\n",
        "data_1"
      ],
      "metadata": {
        "id": "8wixY14MoCxS"
      },
      "execution_count": null,
      "outputs": []
    },
    {
      "cell_type": "code",
      "source": [
        "data2 = data_1.drop(['isPartial'], axis=1)"
      ],
      "metadata": {
        "id": "6Q4SyTaaqdIJ"
      },
      "execution_count": null,
      "outputs": []
    },
    {
      "cell_type": "code",
      "source": [
        "data_2 = pt.get_historical_interest(\n",
        "    ['anixety', 'fears', 'tiredness', 'symptoms','mental health'], \n",
        "    year_start=2019, month_start=1, day_start=20, hour_start=0,\n",
        "    year_end=2022, month_end=7, day_end=22, hour_end=23,\n",
        ");\n",
        "data_2"
      ],
      "metadata": {
        "id": "0R5CV1xPS5EH"
      },
      "execution_count": null,
      "outputs": []
    },
    {
      "cell_type": "code",
      "source": [
        "data3 = data_2.drop(['isPartial'], axis=1)"
      ],
      "metadata": {
        "id": "HbhoLXtvVTh-"
      },
      "execution_count": null,
      "outputs": []
    },
    {
      "cell_type": "code",
      "source": [
        "da = data2.join(data1, how='left')"
      ],
      "metadata": {
        "id": "Xs_x8juHrx9Y"
      },
      "execution_count": null,
      "outputs": []
    },
    {
      "cell_type": "code",
      "source": [
        "da"
      ],
      "metadata": {
        "id": "yfT2oAYP-kpB"
      },
      "execution_count": null,
      "outputs": []
    },
    {
      "cell_type": "code",
      "source": [
        "#df1= da.join(data3, how='right')\n",
        "df1 = pd.merge(da, data3, left_index=True, right_index=True, how='right')\n"
      ],
      "metadata": {
        "id": "XlBUgb4FVJKe"
      },
      "execution_count": null,
      "outputs": []
    },
    {
      "cell_type": "code",
      "source": [
        "df1 = df1.drop(['isPartial'], axis=1)"
      ],
      "metadata": {
        "id": "ctxjwNVQ_AYK"
      },
      "execution_count": null,
      "outputs": []
    },
    {
      "cell_type": "code",
      "source": [
        "df1"
      ],
      "metadata": {
        "id": "9Lv0BIRwAdS6"
      },
      "execution_count": null,
      "outputs": []
    },
    {
      "cell_type": "code",
      "source": [
        "df1.to_csv('MH11.csv')"
      ],
      "metadata": {
        "id": "8z2jSUNGVaeO"
      },
      "execution_count": null,
      "outputs": []
    },
    {
      "cell_type": "code",
      "source": [
        "df.to_csv('MH.csv')"
      ],
      "metadata": {
        "id": "UKa3XZDIFWSN"
      },
      "execution_count": null,
      "outputs": []
    },
    {
      "cell_type": "code",
      "source": [
        "df.isnull().sum()"
      ],
      "metadata": {
        "id": "qdxtWS-Gr56Z"
      },
      "execution_count": null,
      "outputs": []
    },
    {
      "cell_type": "code",
      "source": [
        "print('No', round(df1['mental disorder awareness'].value_counts()[0]/len(df1) * 100,2), '% of the dataset')\n",
        "print('Yes', round(df1['mental disorder awareness'].value_counts()[1]/len(df1) * 100,2), '% of the dataset')"
      ],
      "metadata": {
        "id": "6Xe14WSH8Ezv"
      },
      "execution_count": null,
      "outputs": []
    },
    {
      "cell_type": "code",
      "source": [
        "df1 = df.drop(['isPartial'], axis=1)"
      ],
      "metadata": {
        "id": "Ewkty9nAtQvw"
      },
      "execution_count": null,
      "outputs": []
    },
    {
      "cell_type": "code",
      "source": [
        "df1.head()"
      ],
      "metadata": {
        "id": "-694AynftkJX"
      },
      "execution_count": null,
      "outputs": []
    },
    {
      "cell_type": "code",
      "source": [
        "df2 = df1.drop(['age','gender','countries','isPartial'], axis=1)"
      ],
      "metadata": {
        "id": "WxGwX2el8fdV"
      },
      "execution_count": null,
      "outputs": []
    },
    {
      "cell_type": "code",
      "source": [
        "df2.to_csv('MH2.csv')"
      ],
      "metadata": {
        "id": "duqarESuaAkF"
      },
      "execution_count": null,
      "outputs": []
    },
    {
      "cell_type": "code",
      "source": [
        "df2.shape"
      ],
      "metadata": {
        "id": "rnsSzSsJXBzv"
      },
      "execution_count": null,
      "outputs": []
    },
    {
      "cell_type": "code",
      "source": [
        "df2.columns"
      ],
      "metadata": {
        "id": "xNd9_CMnYqy9"
      },
      "execution_count": null,
      "outputs": []
    },
    {
      "cell_type": "code",
      "source": [
        "df2.info()"
      ],
      "metadata": {
        "id": "Tpim4pqjYz2c"
      },
      "execution_count": null,
      "outputs": []
    },
    {
      "cell_type": "code",
      "source": [
        "import numpy as np\n",
        "import matplotlib.pyplot as plt\n",
        "import seaborn as sns\n",
        "import statsmodels.api as sm\n",
        "from sklearn import linear_model"
      ],
      "metadata": {
        "id": "XG6D9Vc8XrHu"
      },
      "execution_count": null,
      "outputs": []
    },
    {
      "cell_type": "code",
      "source": [
        "x = df2[['symptoms', 'mental health', 'social isolation', 'stress',\n",
        "       'bereavement', 'healthcare', 'mental illness', 'depression',\n",
        "       'panic attack', 'insomnia', 'loneliness']].values.tolist()\n",
        "y = df[['mental disorder awareness']].values.tolist()"
      ],
      "metadata": {
        "id": "84jvjBwyYlxO"
      },
      "execution_count": null,
      "outputs": []
    },
    {
      "cell_type": "code",
      "source": [
        ""
      ],
      "metadata": {
        "id": "NOrEvaLDZKbk"
      },
      "execution_count": null,
      "outputs": []
    }
  ]
}