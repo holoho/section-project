{
  "nbformat": 4,
  "nbformat_minor": 0,
  "metadata": {
    "colab": {
      "private_outputs": true,
      "provenance": [],
      "machine_shape": "hm",
      "authorship_tag": "ABX9TyO+ZpSACSWoQpmXWObOC3nt",
      "include_colab_link": true
    },
    "kernelspec": {
      "name": "python3",
      "display_name": "Python 3"
    },
    "language_info": {
      "name": "python"
    },
    "gpuClass": "standard"
  },
  "cells": [
    {
      "cell_type": "markdown",
      "metadata": {
        "id": "view-in-github",
        "colab_type": "text"
      },
      "source": [
        "<a href=\"https://colab.research.google.com/github/holoho/section-project/blob/main/section2project.ipynb\" target=\"_parent\"><img src=\"https://colab.research.google.com/assets/colab-badge.svg\" alt=\"Open In Colab\"/></a>"
      ]
    },
    {
      "cell_type": "markdown",
      "source": [
        "\n",
        "\n",
        "프로젝트 목표\n",
        "데이터셋을 사용하여 머신러닝 모델 설정 후 성능 확인 및 인사이트 도출한다.\n",
        "\n",
        "데이터 출처: US.GOV\n",
        "\n",
        "데이터 셋: 부트캠프 내 지정된 주제가 아닌 다른 임의의 주제를 적용\n",
        "\n",
        "문제 정의\n",
        "\n",
        "\n",
        "\n"
      ],
      "metadata": {
        "id": "vQeoUByxA22g"
      }
    },
    {
      "cell_type": "code",
      "execution_count": null,
      "metadata": {
        "id": "OI74TaNSAszC"
      },
      "outputs": [],
      "source": [
        "from google.colab import drive\n",
        "drive.mount('/content/drive')"
      ]
    },
    {
      "cell_type": "code",
      "source": [
        "#!pip install category_encoders\n",
        "#!pip install shap\n",
        "#!pip install pdpbox\n",
        "#!pip install eli5\n",
        "#!pip install xgboost\n",
        "#!pip install -U imbalanced-learn"
      ],
      "metadata": {
        "id": "kmt3kdPHBkrf"
      },
      "execution_count": null,
      "outputs": []
    },
    {
      "cell_type": "code",
      "source": [
        "import pandas as pd\n",
        "import numpy as np\n",
        "import matplotlib.pyplot as plt\n",
        "import seaborn as sns\n",
        "#import pdpbox.pdp as pdp\n",
        "#import shap, eli5\n",
        "\n",
        "#from category_encoders import OrdinalEncoder, TargetEncoder\n",
        "#from eli5.sklearn import PermutationImportance\n",
        "#from sklearn.ensemble import RandomForestClassifier\n",
        "#from sklearn.linear_model import LogisticRegression\n",
        "#from sklearn.metrics import f1_score\n",
        "#from sklearn.model_selection import train_test_split, \n",
        "#from sklearn.pipeline import make_pipeline, Pipeline\n",
        "#from sklearn.preprocessing import StandardScaler\n",
        "#from xgboost import XGBClassifier"
      ],
      "metadata": {
        "id": "opVVNYejBt4-"
      },
      "execution_count": null,
      "outputs": []
    },
    {
      "cell_type": "code",
      "source": [
        "df = pd.read_csv(\"/content/drive/MyDrive/complaints.csv\")"
      ],
      "metadata": {
        "id": "D6Umil3VB0Pv"
      },
      "execution_count": null,
      "outputs": []
    },
    {
      "cell_type": "code",
      "source": [
        "df.isnull().sum()"
      ],
      "metadata": {
        "id": "k7Eq46cuCcEn"
      },
      "execution_count": null,
      "outputs": []
    },
    {
      "cell_type": "code",
      "source": [
        "df1 = df.drop(columns = ['Date received','Sub-product','Sub-issue','Consumer complaint narrative','ZIP code','Tags','Date sent to company','Consumer disputed?','Complaint ID']) "
      ],
      "metadata": {
        "id": "lvrBkmc-DRUc"
      },
      "execution_count": null,
      "outputs": []
    },
    {
      "cell_type": "code",
      "source": [
        "df1 = df1.dropna()"
      ],
      "metadata": {
        "id": "Xsvg4Cf9Ddef"
      },
      "execution_count": null,
      "outputs": []
    },
    {
      "cell_type": "code",
      "source": [
        "df1"
      ],
      "metadata": {
        "id": "4RGWdWB2JiTn"
      },
      "execution_count": null,
      "outputs": []
    },
    {
      "cell_type": "code",
      "source": [
        "df1['Product'].unique() # 18"
      ],
      "metadata": {
        "id": "9EPJaQBqKHaY"
      },
      "execution_count": null,
      "outputs": []
    },
    {
      "cell_type": "code",
      "source": [
        "df1['Issue'].unique() # 158"
      ],
      "metadata": {
        "id": "QweWw3NGKOPn"
      },
      "execution_count": null,
      "outputs": []
    },
    {
      "cell_type": "code",
      "source": [
        "df1['Company public response'].unique() # 11"
      ],
      "metadata": {
        "id": "Og1HuboDKSPH"
      },
      "execution_count": null,
      "outputs": []
    },
    {
      "cell_type": "code",
      "source": [
        "df1['Company'].unique() # 4274"
      ],
      "metadata": {
        "id": "I99sFooEKhtY"
      },
      "execution_count": null,
      "outputs": []
    },
    {
      "cell_type": "code",
      "source": [
        "df1['State'].unique() # 63"
      ],
      "metadata": {
        "id": "cJuyp8PTKnnX"
      },
      "execution_count": null,
      "outputs": []
    },
    {
      "cell_type": "code",
      "source": [
        "df1['Consumer consent provided?'].unique() # 4"
      ],
      "metadata": {
        "id": "3ApPg7vEKs4P"
      },
      "execution_count": null,
      "outputs": []
    },
    {
      "cell_type": "code",
      "source": [
        "df1['Submitted via'].unique() # 2 ,Delete"
      ],
      "metadata": {
        "id": "Fd6_q77FKzR_"
      },
      "execution_count": null,
      "outputs": []
    },
    {
      "cell_type": "code",
      "source": [
        "df1['Company response to consumer'].unique() # 4"
      ],
      "metadata": {
        "id": "IN0UiKYlK4an"
      },
      "execution_count": null,
      "outputs": []
    },
    {
      "cell_type": "code",
      "source": [
        "df2 = df1.drop(columns = 'Submitted via') "
      ],
      "metadata": {
        "id": "My2scoWJdvUy"
      },
      "execution_count": null,
      "outputs": []
    },
    {
      "cell_type": "code",
      "source": [
        "data = df2.drop_duplicates()"
      ],
      "metadata": {
        "id": "NUmHxi0ugQXy"
      },
      "execution_count": null,
      "outputs": []
    },
    {
      "cell_type": "code",
      "source": [
        "data = data.reset_index(drop=True)"
      ],
      "metadata": {
        "id": "qww7isIsgjNp"
      },
      "execution_count": null,
      "outputs": []
    },
    {
      "cell_type": "code",
      "source": [
        "#결측치 확인\n",
        "[(x, data[x].isnull().sum()) for x in data.columns if data[x].isnull().any()]"
      ],
      "metadata": {
        "id": "y5lxbXwngCKx"
      },
      "execution_count": null,
      "outputs": []
    },
    {
      "cell_type": "code",
      "source": [
        "#중복값 확인\n",
        "data.duplicated().sum()"
      ],
      "metadata": {
        "id": "ADtkSuC8i7uC"
      },
      "execution_count": null,
      "outputs": []
    },
    {
      "cell_type": "markdown",
      "source": [
        "타겟 라벨 변환 ('Yes': 1 / 'No': 0)"
      ],
      "metadata": {
        "id": "uTd302PHhqz8"
      }
    },
    {
      "cell_type": "code",
      "source": [
        "data['Timely response?'].replace(['Yes', 'No'], ['1', '0'], inplace = True)\n",
        "data['Timely response?'] = data['Timely response?'].astype('int64')"
      ],
      "metadata": {
        "id": "tBdKU-wShQD6"
      },
      "execution_count": null,
      "outputs": []
    },
    {
      "cell_type": "code",
      "source": [
        "features = data.drop(columns=['Timely response?']).columns   "
      ],
      "metadata": {
        "id": "9-p_GO69eHdp"
      },
      "execution_count": null,
      "outputs": []
    },
    {
      "cell_type": "code",
      "source": [
        "cat_columns = data.select_dtypes(['object']).columns\n",
        "cat_columns"
      ],
      "metadata": {
        "id": "AkzSA6e78T3t"
      },
      "execution_count": null,
      "outputs": []
    },
    {
      "cell_type": "code",
      "source": [
        "#convert all categorical variables to numeric\n",
        "data2 =data.copy()\n",
        "data2[cat_columns] = data2[cat_columns].apply(lambda x: pd.factorize(x)[0])"
      ],
      "metadata": {
        "id": "ijcsD2qTtl8-"
      },
      "execution_count": null,
      "outputs": []
    },
    {
      "cell_type": "code",
      "source": [
        "data.head()"
      ],
      "metadata": {
        "id": "-ClNIEPoY0LE"
      },
      "execution_count": null,
      "outputs": []
    },
    {
      "cell_type": "code",
      "source": [
        "data2"
      ],
      "metadata": {
        "id": "8rjR_565twTz"
      },
      "execution_count": null,
      "outputs": []
    },
    {
      "cell_type": "code",
      "source": [
        "data2.loc[data2['Consumer consent provided?']==0]"
      ],
      "metadata": {
        "id": "BHCxh7WhZEcO"
      },
      "execution_count": null,
      "outputs": []
    },
    {
      "cell_type": "code",
      "source": [
        "data.loc[95]"
      ],
      "metadata": {
        "id": "kkXcXlFcg5X1"
      },
      "execution_count": null,
      "outputs": []
    },
    {
      "cell_type": "markdown",
      "source": [
        "EDA"
      ],
      "metadata": {
        "id": "-b70fla3pn6j"
      }
    },
    {
      "cell_type": "code",
      "source": [
        "data[\"Issue\"].value_counts().reset_index()[:5] # 가장 많은 불만 이슈"
      ],
      "metadata": {
        "id": "jYCkxPN5o_Fb"
      },
      "execution_count": null,
      "outputs": []
    },
    {
      "cell_type": "code",
      "source": [
        "data[\"Company\"].value_counts().reset_index()[:10] # 고객들이 가장 많은 complaints 가진 회사"
      ],
      "metadata": {
        "id": "R9vM5Srao_B2"
      },
      "execution_count": null,
      "outputs": []
    },
    {
      "cell_type": "code",
      "source": [
        "data[\"State\"].value_counts().reset_index()[:10] # 고객들이 가장 많은 complaints 가진 주"
      ],
      "metadata": {
        "id": "OlLI22IpkejW"
      },
      "execution_count": null,
      "outputs": []
    },
    {
      "cell_type": "code",
      "source": [
        "data[\"Company public response\"].value_counts().reset_index()[:10] # 고객들이 회사에 대한 가장 많은 후기 TOP 10"
      ],
      "metadata": {
        "id": "NxgpUD97kuaE"
      },
      "execution_count": null,
      "outputs": []
    },
    {
      "cell_type": "code",
      "source": [
        "data[\"Product\"].value_counts().reset_index()[:5] # 고객들의 불만이 많았던 product TOP 10"
      ],
      "metadata": {
        "id": "JG5-81x-lCnP"
      },
      "execution_count": null,
      "outputs": []
    },
    {
      "cell_type": "code",
      "source": [
        "plt.subplots(1,1)\n",
        "sns.countplot(data.State, order=data.State.value_counts().iloc[:14].index)\n",
        "plt.xticks(rotation= 45)\n",
        "plt.title(\"Complaints by State Top15\",color = 'blue',fontsize=15)\n",
        "plt.show()\n",
        "\n",
        "plt.subplots(1,1)\n",
        "sns.countplot(data.Company, order=data.Company.value_counts().iloc[0:14].index)\n",
        "plt.title(\"Complaints by Company Top15\",color = 'blue',fontsize=15)\n",
        "plt.xticks(rotation= 90)\n",
        "plt.show()\n",
        "\n",
        "\n",
        "plt.subplots(1,1)\n",
        "sns.countplot(data.Issue, order=data.Issue.value_counts().iloc[:5].index)\n",
        "plt.title(\"Complaints by Issue\",color = 'blue',fontsize=15)\n",
        "plt.xticks(rotation= 75)\n",
        "plt.show()\n",
        "\n",
        "\n",
        "plt.subplots(1,1)\n",
        "sns.countplot(data.Product, order=data.Product.value_counts().iloc[:5].index)\n",
        "plt.title(\"Complaints by Product\",color = 'blue',fontsize=15)\n",
        "plt.xticks(rotation= 75)\n",
        "plt.show()"
      ],
      "metadata": {
        "id": "6GNILIHQlbT0"
      },
      "execution_count": null,
      "outputs": []
    },
    {
      "cell_type": "code",
      "source": [
        "sns.displot(x = 'Consumer consent provided?', hue = 'Timely response?', kind = 'kde', data = data2)"
      ],
      "metadata": {
        "id": "Hnv9tD9OT2hK"
      },
      "execution_count": null,
      "outputs": []
    },
    {
      "cell_type": "code",
      "source": [
        "sns.displot(x = 'Company public response', hue = 'Timely response?', kind = 'kde', data = data2)"
      ],
      "metadata": {
        "id": "gEzcNEf2US_8"
      },
      "execution_count": null,
      "outputs": []
    },
    {
      "cell_type": "code",
      "source": [
        "sns.displot(x = 'Product', hue = 'Timely response?', kind = 'kde', data = data2)"
      ],
      "metadata": {
        "id": "PQKm7NnqWeDe"
      },
      "execution_count": null,
      "outputs": []
    },
    {
      "cell_type": "code",
      "source": [
        "response_y= data.loc[data['Timely response?']==1]\n",
        "len(response_y)"
      ],
      "metadata": {
        "id": "eaR89edTrMPf"
      },
      "execution_count": null,
      "outputs": []
    },
    {
      "cell_type": "code",
      "source": [
        "plt.figure(figsize=(15,6))\n",
        "sns.set_theme(style='darkgrid')\n",
        "sns.countplot(data=response_y,x=response_y['Consumer consent provided?'], palette=\"Set3\")"
      ],
      "metadata": {
        "id": "FX4FunlcreIx"
      },
      "execution_count": null,
      "outputs": []
    },
    {
      "cell_type": "code",
      "source": [
        "plt.figure(figsize=(15,6))\n",
        "sns.set_theme(style='darkgrid')\n",
        "sns.countplot(data=response_y,x=response_y['Company response to consumer'], palette=\"Set3\")"
      ],
      "metadata": {
        "id": "tQjY51vBsNLe"
      },
      "execution_count": null,
      "outputs": []
    },
    {
      "cell_type": "code",
      "source": [
        "response_x= data.loc[data['Timely response?']==0]\n",
        "len(response_x)"
      ],
      "metadata": {
        "id": "MaswCXYusZaF"
      },
      "execution_count": null,
      "outputs": []
    },
    {
      "cell_type": "code",
      "source": [
        "plt.figure(figsize=(15,6))\n",
        "sns.set_theme(style='darkgrid')\n",
        "sns.countplot(data=response_x,x=response_x['Consumer consent provided?'], palette=\"Set3\")"
      ],
      "metadata": {
        "id": "ETCIcnDZsf7m"
      },
      "execution_count": null,
      "outputs": []
    },
    {
      "cell_type": "code",
      "source": [
        "plt.figure(figsize=(15,6))\n",
        "sns.set_theme(style='darkgrid')\n",
        "sns.countplot(data=response_x,x=response_x['Company response to consumer'], palette=\"Set3\")"
      ],
      "metadata": {
        "id": "gpJIu7irsla-"
      },
      "execution_count": null,
      "outputs": []
    },
    {
      "cell_type": "markdown",
      "source": [
        "시나리오\n",
        "\n",
        "고객센터에 일하는 직원이다. 응답율이 저조한 회사들을 파악하고 어떤 불만사항들인지 확인해보자"
      ],
      "metadata": {
        "id": "1ek412QHjIKR"
      }
    },
    {
      "cell_type": "code",
      "source": [
        "#print(data[target].loc[data[target] == 1].count(),\n",
        "#      data[target].loc[data[target] == 0].count())"
      ],
      "metadata": {
        "id": "h7db3aR8enC7"
      },
      "execution_count": null,
      "outputs": []
    },
    {
      "cell_type": "code",
      "source": [
        "#data[features].shape"
      ],
      "metadata": {
        "id": "YAxe3Nw4iEcy"
      },
      "execution_count": null,
      "outputs": []
    },
    {
      "cell_type": "markdown",
      "source": [
        "기준모델 baseline model 선정, 모델링 성능 평가"
      ],
      "metadata": {
        "id": "uxAQH2TpibgR"
      }
    },
    {
      "cell_type": "code",
      "source": [
        "# 타겟 데이터 범주의 비율 확인\n",
        "y_train = train[target]\n",
        "y_train.value_counts(normalize = True) # 불균형 클래스"
      ],
      "metadata": {
        "id": "jXSFzWRKiqBT"
      },
      "execution_count": null,
      "outputs": []
    },
    {
      "cell_type": "code",
      "source": [
        "import seaborn as sns\n",
        "import matplotlib.pyplot as plt\n",
        "%matplotlib inline\n",
        "sns.countplot(x = y_train)"
      ],
      "metadata": {
        "id": "TGTsS8GVxWCK"
      },
      "execution_count": null,
      "outputs": []
    },
    {
      "cell_type": "code",
      "source": [
        "target = 'Timely response?'\n",
        "data[target].value_counts(normalize=True).plot.pie(autopct=\"%.3f%%\")\n",
        "print(\"Baseline Accuracy:\", data[target].value_counts(normalize=True).max())"
      ],
      "metadata": {
        "id": "pU6yMlzKuHMx"
      },
      "execution_count": null,
      "outputs": []
    },
    {
      "cell_type": "code",
      "source": [
        "from sklearn.model_selection import train_test_split\n",
        "target = 'Timely response?'\n",
        "train, test = train_test_split(data2, test_size = 0.2, stratify = data[target])\n",
        "train, val = train_test_split(train, test_size=0.2, stratify=train[target], random_state=42)\n",
        "print(train.shape, val.shape , test.shape)"
      ],
      "metadata": {
        "id": "cTHPHPWczuKV"
      },
      "execution_count": null,
      "outputs": []
    },
    {
      "cell_type": "code",
      "source": [
        "print(\"Train target distribution:\\n\", train[target].value_counts(normalize=True), \"\\n\")\n",
        "print(\"Val target distribution:\\n\", val[target].value_counts(normalize=True), \"\\n\")\n",
        "print(\"Test target distribution:\\n\", test[target].value_counts(normalize=True))"
      ],
      "metadata": {
        "id": "Rhg24c6pvtNh"
      },
      "execution_count": null,
      "outputs": []
    },
    {
      "cell_type": "code",
      "source": [
        "major = y_train.mode()[0]\n",
        "y_pred = [major] * len(y_train)"
      ],
      "metadata": {
        "id": "HTATy8TTxciD"
      },
      "execution_count": null,
      "outputs": []
    },
    {
      "cell_type": "code",
      "source": [
        " #기준모델의 성능 평가 (정확도 accuracy)\n",
        "from sklearn.metrics import accuracy_score\n",
        "print(\"기준모델 학습 정확도: \", accuracy_score(y_train, y_pred)) # 최다 클래스의 빈도 = 정확도\n",
        "\n",
        "# 기준모델 학습 정확도:  약 95.66%"
      ],
      "metadata": {
        "id": "INfG8C3kxgUL"
      },
      "execution_count": null,
      "outputs": []
    },
    {
      "cell_type": "code",
      "source": [
        "# 검증 세트에서의 정확도\n",
        "train, val = train_test_split(train, test_size = 0.2, stratify = train[target])\n",
        "print(train.shape, val.shape)"
      ],
      "metadata": {
        "id": "otE6EZoF0yoF"
      },
      "execution_count": null,
      "outputs": []
    },
    {
      "cell_type": "code",
      "source": [
        "y_val = val[target]\n",
        "major1 = y_val.mode()[0]\n",
        "y_pred_val = [major1] * len(y_val)\n",
        "print(\"기준모델 검증 정확도: \", accuracy_score(y_val, y_pred_val))\n",
        "# 기준모델 검증 정확도: 약 95.65%"
      ],
      "metadata": {
        "id": "VJSKJDZe0ztr"
      },
      "execution_count": null,
      "outputs": []
    },
    {
      "cell_type": "code",
      "source": [
        "X_train, y_train = train.drop(columns=[target]), train[target]\n",
        "X_val, y_val = val.drop(columns=[target]), val[target]\n",
        "X_test, y_test = test.drop(columns=[target]), test[target]"
      ],
      "metadata": {
        "id": "-_A8xAKzwE7S"
      },
      "execution_count": null,
      "outputs": []
    },
    {
      "cell_type": "code",
      "source": [
        "from category_encoders import OrdinalEncoder\n",
        "\n",
        "encoder = OrdinalEncoder()\n",
        "X_train_encoded = encoder.fit_transform(X_train)\n",
        "X_val_encoded = encoder.transform(X_val)\n",
        "X_test_encoded = encoder.transform(X_test)"
      ],
      "metadata": {
        "id": "LH0EI5n1wF-5"
      },
      "execution_count": null,
      "outputs": []
    },
    {
      "cell_type": "code",
      "source": [
        "from xgboost import XGBClassifier\n",
        "\n",
        "model = XGBClassifier(\n",
        "    objective=\"binary:logistic\",\n",
        "    eval_metric=\"auc\",\n",
        "    n_estimators=987654321,\n",
        "    random_state=42,\n",
        "    n_jobs=-1,\n",
        "    max_depth=5,\n",
        "    learning_rate=0.1,\n",
        ")\n",
        "print(model)"
      ],
      "metadata": {
        "id": "y_BguCJKwJZA"
      },
      "execution_count": null,
      "outputs": []
    },
    {
      "cell_type": "code",
      "source": [
        "watchlist = [(X_train_encoded, y_train), (X_val_encoded, y_val)]\n",
        "\n",
        "model.fit(\n",
        "    X_train_encoded,\n",
        "    y_train,\n",
        "    eval_set=watchlist,\n",
        "    early_stopping_rounds=50,  # 50 rounds 동안 성능 개선이 없으면 학습을 중지합니다.\n",
        ")"
      ],
      "metadata": {
        "id": "P56Lh1riz94Z"
      },
      "execution_count": null,
      "outputs": []
    },
    {
      "cell_type": "code",
      "source": [
        "import matplotlib.pyplot as plt\n",
        "\n",
        "results = model.evals_result()\n",
        "train_error = results[\"validation_0\"][\"auc\"]\n",
        "val_error = results[\"validation_1\"][\"auc\"]\n",
        "\n",
        "plt.plot(train_error, label=\"Train\")\n",
        "plt.plot(val_error, label=\"Validation\")\n",
        "plt.ylabel(\"ROC-AUC\")\n",
        "plt.xlabel(\"Model Complexity (n_estimators)\")\n",
        "plt.legend()"
      ],
      "metadata": {
        "id": "G2TkqpMd0BkZ"
      },
      "execution_count": null,
      "outputs": []
    },
    {
      "cell_type": "code",
      "source": [
        "from sklearn.metrics import classification_report\n",
        "\n",
        "print(\"검증 정확도\", model.score(X_val_encoded, y_val))\n",
        "\n",
        "print(\n",
        "    classification_report(\n",
        "        y_val, model.predict(X_val_encoded)\n",
        "    )\n",
        ")\n",
        "\n",
        "#1-class의 Recall이 굉장히 높다. 이 모델은 대부분의 입력을 1으로 예측하는 모델이라는 뜻"
      ],
      "metadata": {
        "id": "Fk5NPmRY0K5h"
      },
      "execution_count": null,
      "outputs": []
    },
    {
      "cell_type": "code",
      "source": [
        "model.predict(X_val_encoded).sum() #1이라고 예측하는 횟수"
      ],
      "metadata": {
        "id": "hUbYKTgM0Tcy"
      },
      "execution_count": null,
      "outputs": []
    },
    {
      "cell_type": "code",
      "source": [
        "from sklearn.metrics import roc_curve, roc_auc_score\n",
        "\n",
        "\n",
        "def get_roc_auc(model, X_val_encoded, y_val):\n",
        "    if isinstance(model, XGBClassifier):\n",
        "        y_pred_proba = model.predict_proba(\n",
        "            X_val_encoded\n",
        "        )[:, 1]\n",
        "    else:\n",
        "        y_pred_proba = model.predict_proba(X_val_encoded)[:, 1]\n",
        "\n",
        "    print(\"ROC-AUC:\", roc_auc_score(y_val, y_pred_proba))\n",
        "\n",
        "    baseline_fpr, baseline_tpr, _ = roc_curve(y_val, [0] * len(y_val))\n",
        "    fpr, tpr, thresholds = roc_curve(y_val, y_pred_proba)\n",
        "\n",
        "    plt.plot(\n",
        "        baseline_fpr, baseline_tpr, linestyle=\"--\", color=\"green\", label=\"Baseline\"\n",
        "    )\n",
        "    plt.plot(fpr, tpr, color=\"blue\", label=\"Model\")\n",
        "    plt.scatter(fpr, tpr, color=\"red\")\n",
        "    plt.legend()\n",
        "    plt.title(\"ROC curve\")\n",
        "    plt.xlabel(\"FPR\")\n",
        "    plt.ylabel(\"TPR\")\n",
        "    plt.show()"
      ],
      "metadata": {
        "id": "TWFg8U4y0VC8"
      },
      "execution_count": null,
      "outputs": []
    },
    {
      "cell_type": "code",
      "source": [
        "get_roc_auc(model, X_val_encoded, y_val)"
      ],
      "metadata": {
        "id": "AVp2R-xi0aK7"
      },
      "execution_count": null,
      "outputs": []
    },
    {
      "cell_type": "code",
      "source": [
        "from sklearn.metrics import confusion_matrix\n",
        "import seaborn as sns\n",
        "\n",
        "\n",
        "def plot_confusion_matrix(model, X_val_encoded, y_val):\n",
        "    if isinstance(model, XGBClassifier):\n",
        "        y_pred = model.predict(X_val_encoded)\n",
        "    else:\n",
        "        y_pred = model.predict(X_val_encoded)\n",
        "    cm = confusion_matrix(y_val, y_pred)\n",
        "    sns.heatmap(cm, annot=True, fmt=\"g\")\n",
        "    plt.xlabel(\"Predicted label\")\n",
        "    plt.ylabel(\"True label\")\n",
        "    plt.show()\n",
        "     "
      ],
      "metadata": {
        "id": "1ovw9RZp0eKa"
      },
      "execution_count": null,
      "outputs": []
    },
    {
      "cell_type": "code",
      "source": [
        "plot_confusion_matrix(model, X_val_encoded, y_val)"
      ],
      "metadata": {
        "id": "NdMeOOuh0gCT"
      },
      "execution_count": null,
      "outputs": []
    },
    {
      "cell_type": "code",
      "source": [
        "# 함수화 된 정리\n",
        "def summarize_results(model, X_val_encoded, y_val):\n",
        "    # 1. Train / Val Loss Plot\n",
        "    if isinstance(model, XGBClassifier):\n",
        "        results = model.evals_result()\n",
        "        tgts = results[\"validation_0\"].keys()\n",
        "\n",
        "        for tgt in tgts:\n",
        "            train_error = results[\"validation_0\"][tgt]\n",
        "            val_error = results[\"validation_1\"][tgt]\n",
        "\n",
        "            plt.plot(train_error, label=\"Train\")\n",
        "            plt.plot(val_error, label=\"Validation\")\n",
        "            plt.ylabel(tgt)\n",
        "            plt.xlabel(\"Model Complexity (n_estimators)\")\n",
        "            plt.legend()\n",
        "            plt.show()\n",
        "\n",
        "    # 2. Accuracy / Classification Report\n",
        "    print(\"검증 정확도\", model.score(X_val_encoded, y_val))\n",
        "\n",
        "    if isinstance(model, XGBClassifier):\n",
        "        y_pred = model.predict(X_val_encoded)\n",
        "    else:\n",
        "        y_pred = model.predict(X_val_encoded)\n",
        "\n",
        "    print(classification_report(y_val, y_pred))\n",
        "\n",
        "    # 3. ROC-AUC\n",
        "    get_roc_auc(model, X_val_encoded, y_val)\n",
        "\n",
        "    # 4. Confusion Matrix\n",
        "    plot_confusion_matrix(model, X_val_encoded, y_val)\n",
        "     "
      ],
      "metadata": {
        "id": "WKAaW7og0sZZ"
      },
      "execution_count": null,
      "outputs": []
    },
    {
      "cell_type": "code",
      "source": [
        "summarize_results(model, X_val_encoded, y_val)"
      ],
      "metadata": {
        "id": "YUSZqKPN1i5x"
      },
      "execution_count": null,
      "outputs": []
    },
    {
      "cell_type": "code",
      "source": [
        "# sample수를 적은 수에 맞춤\n",
        "from imblearn.under_sampling import RandomUnderSampler\n",
        "\n",
        "model = XGBClassifier(\n",
        "    objective=\"binary:logistic\",\n",
        "    eval_metric=\"auc\",\n",
        "    n_estimators=987654321,\n",
        "    random_state=42,\n",
        "    n_jobs=-1,\n",
        "    max_depth=5,\n",
        "    learning_rate=0.1,\n",
        ")\n",
        "\n",
        "X_train_sampled, y_train_sampled = RandomUnderSampler(random_state=42).fit_resample(\n",
        "    X_train_encoded, y_train\n",
        ")\n",
        "     "
      ],
      "metadata": {
        "id": "4z9y_QIq1sOr"
      },
      "execution_count": null,
      "outputs": []
    },
    {
      "cell_type": "code",
      "source": [
        "# Undersampling 시 각 class의 샘플들이 동일한 비율로 샘플링된 것을 볼 수 있습니다.\n",
        "y_train_sampled.value_counts()"
      ],
      "metadata": {
        "id": "yate0y9_10tC"
      },
      "execution_count": null,
      "outputs": []
    },
    {
      "cell_type": "code",
      "source": [
        "watchlist = [(X_train_sampled, y_train_sampled), (X_val_encoded, y_val)]\n",
        "\n",
        "model.fit(\n",
        "    X_train_sampled,\n",
        "    y_train_sampled,\n",
        "    eval_set=watchlist,\n",
        "    early_stopping_rounds=50,  # 50 rounds 동안 성능 개선이 없으면 학습을 중지합니다.\n",
        ")\n",
        "\n",
        "summarize_results(model, X_val_encoded, y_val)"
      ],
      "metadata": {
        "id": "x8GylZMO12wx"
      },
      "execution_count": null,
      "outputs": []
    },
    {
      "cell_type": "code",
      "source": [
        "from imblearn.over_sampling import SMOTE\n",
        "\n",
        "\n",
        "model = XGBClassifier(\n",
        "    objective=\"binary:logistic\",\n",
        "    eval_metric=\"auc\",\n",
        "    n_estimators=987654321,\n",
        "    random_state=42,\n",
        "    n_jobs=-1,\n",
        "    max_depth=5,\n",
        "    learning_rate=0.1,\n",
        ")\n",
        "\n",
        "X_train_sampled, y_train_sampled = SMOTE(random_state=42).fit_resample(\n",
        "    X_train_encoded, y_train\n",
        ")"
      ],
      "metadata": {
        "id": "eZ4gE4g_2BAB"
      },
      "execution_count": null,
      "outputs": []
    },
    {
      "cell_type": "code",
      "source": [
        "# 0-class의 데이터가 1-class의 데이터 수만큼 늘어난 것을 볼 수 있습니다.\n",
        "y_train_sampled.value_counts()"
      ],
      "metadata": {
        "id": "3EQS3kjp2G1C"
      },
      "execution_count": null,
      "outputs": []
    },
    {
      "cell_type": "code",
      "source": [
        "watchlist = [(X_train_sampled, y_train_sampled), (X_val_encoded, y_val)]\n",
        "\n",
        "model.fit(\n",
        "    X_train_sampled,\n",
        "    y_train_sampled,\n",
        "    eval_set=watchlist,\n",
        "    early_stopping_rounds=50,  # 50 rounds 동안 성능 개선이 없으면 학습을 중지합니다.\n",
        ")\n",
        "y_train_sampled.value_counts()\n",
        "summarize_results(model, X_val_encoded, y_val)"
      ],
      "metadata": {
        "id": "qG1VGNUD2J_p"
      },
      "execution_count": null,
      "outputs": []
    },
    {
      "cell_type": "code",
      "source": [
        "from imblearn.combine import SMOTEENN\n",
        "\n",
        "X_train_sampled, y_train_sampled = SMOTEENN(random_state=42).fit_resample(\n",
        "    X_train_encoded, y_train\n",
        ")\n",
        "\n",
        "model = XGBClassifier(\n",
        "    objective=\"binary:logistic\",\n",
        "    eval_metric=\"auc\",\n",
        "    n_estimators=987654321,\n",
        "    random_state=42,\n",
        "    n_jobs=-1,\n",
        "    max_depth=5,\n",
        "    learning_rate=0.1,\n",
        "    scale_pos_weight=(y_train_sampled == 1).sum() / (y_train_sampled == 0).sum(),\n",
        ")\n",
        "# 0-class 데이터가 1-class 데이터만큼 생성되었다가 노이즈가 정리되었으므로, 결과적으로 각 타겟 데이터가 동일한 비율은 아니지만 0-class 데이터가 일부 새로 생성되었습니다.\n",
        "y_train_sampled.value_counts()"
      ],
      "metadata": {
        "id": "a_FyodTe363D"
      },
      "execution_count": null,
      "outputs": []
    },
    {
      "cell_type": "code",
      "source": [
        "watchlist = [(X_train_sampled, y_train_sampled), (X_val_encoded, y_val)]\n",
        "\n",
        "model.fit(\n",
        "    X_train_sampled,\n",
        "    y_train_sampled,\n",
        "    eval_set=watchlist,\n",
        "    early_stopping_rounds=50,  # 50 rounds 동안 성능 개선이 없으면 학습을 중지합니다.\n",
        ")\n",
        "summarize_results(model, X_val_encoded, y_val)"
      ],
      "metadata": {
        "id": "eh7P4V1e4EDq"
      },
      "execution_count": null,
      "outputs": []
    },
    {
      "cell_type": "code",
      "source": [
        "!pip install beautifultable"
      ],
      "metadata": {
        "id": "jcadWG_-3mPa"
      },
      "execution_count": null,
      "outputs": []
    },
    {
      "cell_type": "code",
      "source": [
        "from beautifultable import BeautifulTable\n",
        "table = BeautifulTable()\n",
        "table.column_headers = ['Sampling Name', 'Precision', 'Recall', 'F1-Score', 'ROC-AUC Score','Accuracy']\n",
        "table.append_row(['Baseline', '0.96', '1', '0.98', '0.8570','0.9567'])\n",
        "table.append_row(['Randomundersampling', '0.99', '0.71', '0.83', '0.8361','0.7162'])\n",
        "table.append_row(['SMOTE', '0.97', '0.91', '0.94', '0.8079','0.8898'])\n",
        "table.append_row(['SMOTEEN', '0.98', '0.83', '0.90', '0.8084','0.8179'])\n",
        "\n",
        "print(table)"
      ],
      "metadata": {
        "id": "x6mdu4O9PLIP"
      },
      "execution_count": null,
      "outputs": []
    },
    {
      "cell_type": "code",
      "source": [
        "from category_encoders import TargetEncoder\n",
        "from sklearn.ensemble import RandomForestRegressor\n",
        "from sklearn.model_selection import cross_val_score\n",
        "from sklearn.pipeline import make_pipeline\n",
        "from sklearn.impute import SimpleImputer\n",
        "\n",
        "pipe = make_pipeline(\n",
        "    # TargetEncoder: 범주형 변수 인코더로, 타겟값을 특성의 범주별로 평균내어 그 값으로 인코딩\n",
        "    TargetEncoder(min_samples_leaf=1, smoothing=1), \n",
        "    SimpleImputer(strategy='median'), \n",
        "    RandomForestRegressor(max_depth = 10, n_jobs=-1, random_state=2)\n",
        ")\n",
        "\n",
        "k = 3\n",
        "\n",
        "scores = cross_val_score(pipe, X_train_sampled, y_train_sampled, cv=k, \n",
        "                         scoring='neg_mean_absolute_error')\n",
        "\n",
        "print(f'MAE for {k} folds:', -scores)\n",
        "\n",
        "print(-scores.mean(),'\\n',scores.std())"
      ],
      "metadata": {
        "id": "vgVHTq7n_SCM"
      },
      "execution_count": null,
      "outputs": []
    },
    {
      "cell_type": "markdown",
      "source": [],
      "metadata": {
        "id": "CiiRQqyw_yqo"
      }
    },
    {
      "cell_type": "code",
      "source": [
        "#oversampling 사용하기로 결정 제일 결과값이 좋다\n",
        "X_train_sampled, y_train_sampled = SMOTE(random_state=42).fit_resample(\n",
        "    X_train_encoded, y_train)"
      ],
      "metadata": {
        "id": "AEd2ges3PRoX"
      },
      "execution_count": null,
      "outputs": []
    },
    {
      "cell_type": "code",
      "source": [
        "# 분류 모델\n",
        "from sklearn.linear_model import LogisticRegression\n",
        "from sklearn.tree import DecisionTreeClassifier\n",
        "\n",
        "# 앙상블 모델\n",
        "from sklearn.ensemble import RandomForestClassifier\n",
        "from xgboost import XGBClassifier\n",
        "from sklearn.ensemble import AdaBoostClassifier\n",
        "# from sklearn import svm\n",
        "# from sklearn.svm import SVC, LinearSVC\n",
        "\n",
        "# 모델 검정\n",
        "from sklearn import metrics\n",
        "from sklearn.metrics import roc_curve, auc , f1_score\n",
        "from sklearn.metrics import roc_auc_score \n",
        "from sklearn.metrics import confusion_matrix\n",
        "from sklearn.metrics import accuracy_score, precision_score, recall_score\n",
        "from sklearn.metrics import classification_report\n",
        "\n",
        "from scipy.stats import randint, uniform\n",
        "\n",
        "# 검정결과 시각화\n",
        "import numpy as np\n",
        "import seaborn as sns\n",
        "import matplotlib.pyplot as plt\n",
        "\n",
        "# 최적화\n",
        "from sklearn.model_selection import RandomizedSearchCV\n",
        "from sklearn.model_selection import learning_curve, validation_curve # 학습곡선, 검증곡선\n",
        "from sklearn.model_selection import cross_val_score # 교차타당도"
      ],
      "metadata": {
        "id": "GGDyWXKTrQbj"
      },
      "execution_count": null,
      "outputs": []
    },
    {
      "cell_type": "code",
      "source": [
        "logistic_r = LogisticRegression(\n",
        "    solver = 'liblinear', \n",
        "    penalty = 'l2', \n",
        "    C = 1.0, \n",
        "    random_state = 42\n",
        "    )\n",
        "\n",
        "decision_tree = DecisionTreeClassifier(\n",
        "    criterion = 'entropy', \n",
        "    # maX_features = 1,\n",
        "    min_samples_leaf = 1,\n",
        "    random_state = 42\n",
        "    ) \n",
        "\n",
        "randomforestclf = RandomForestClassifier(\n",
        "    criterion = 'gini', \n",
        "    n_estimators = 100, \n",
        "    random_state = 42\n",
        "    )\n",
        "\n",
        "xgboost = XGBClassifier(\n",
        "    learning_rate = 1,\n",
        "    max_depth = 10, \n",
        "    n_estimators = 100, \n",
        "    random_state = 42\n",
        "    )\n",
        "\n",
        "adaboost = AdaBoostClassifier(\n",
        "    base_estimator = decision_tree,\n",
        "    n_estimators = 200, \n",
        "    learning_rate = 0.1, \n",
        "    random_state = 42\n",
        "    )"
      ],
      "metadata": {
        "id": "54aajmSYCHXB"
      },
      "execution_count": null,
      "outputs": []
    },
    {
      "cell_type": "code",
      "source": [
        "models = [logistic_r, decision_tree]\n",
        "labels = ['Logistic Regression', 'DecisionTreeClassifier']\n",
        "\n",
        "for model, label in zip(models, labels):\n",
        "    scores = cross_val_score(\n",
        "        estimator = model, \n",
        "        X = X_train_sampled, y = y_train_sampled, \n",
        "        cv = 10, \n",
        "        scoring = 'roc_auc')\n",
        "    print(\"ROC AUC: %0.3f (+/- %0.3f) [%s]\" %(scores.mean(), scores.std(), label))\n",
        "    # ROC AUC: 0.707 (+/- 0.019) [Logistic Regression]\n",
        "    # ROC AUC: 0.928 (+/- 0.019) [DecisionTreeClassifier]"
      ],
      "metadata": {
        "id": "vPZ0TlfsCLTq"
      },
      "execution_count": null,
      "outputs": []
    },
    {
      "cell_type": "code",
      "source": [
        "models = [logistic_r, decision_tree]\n",
        "labels = ['Logistic Regression', 'DecisionTreeClassifier']\n",
        "linestyles = ['-', '--']\n",
        "colors = ['orange', 'blue']\n",
        "\n",
        "for model, label, color, ls in zip(models, labels, colors, linestyles):\n",
        "    model.fit(X_train_sampled, y_train_sampled)\n",
        "    pred_proba = model.predict_proba(X_val)[:,1]\n",
        "\n",
        "    fpr, tpr, thresholds = roc_curve(y_val, pred_proba)\n",
        "    roc = pd.DataFrame({\n",
        "        'FPR(Fall-out)': fpr,\n",
        "        'TPR(Recall)': tpr,\n",
        "        'Threshold': thresholds\n",
        "    })\n",
        "    plt.plot(fpr, tpr, linestyle = ls, label = '%s (auc = %0.3f)' %(label, auc(fpr, tpr)))\n",
        "\n",
        "plt.legend(loc = 'lower right')\n",
        "plt.grid(alpha = 0.4)\n",
        "plt.title('ROC curve (Voting)')\n",
        "plt.xlabel('FPR(Fall-out)')\n",
        "plt.ylabel('TPR(Recall)')\n",
        "plt.plot([0, 1], [0, 1], linestyle = ':', color = 'grey', linewidth = 2)\n",
        "\n",
        "plt.show()"
      ],
      "metadata": {
        "id": "m0DY7-HoCb_o"
      },
      "execution_count": null,
      "outputs": []
    },
    {
      "cell_type": "code",
      "source": [
        "def get_clf_eval(y_true, y_pred, y_pred_proba):\n",
        "    print('Confusion Matrix :\\n', confusion_matrix(y_true, y_pred)) # \"오차행렬\"\n",
        "    print('Accuracy : ', accuracy_score(y_true, y_pred))\n",
        "    print('Precision : ', precision_score(y_true, y_pred))\n",
        "    print('Recall : ', recall_score(y_true, y_pred))\n",
        "    print('f1 score : ', f1_score(y_true, y_pred))\n",
        "    print('roc_auc score : ', roc_auc_score(y_true, y_pred_proba))\n",
        "\n",
        "def get_model_eval(model, X_train, X_val, y_train, y_val):\n",
        "    model.fit(X_train, y_train)\n",
        "    y_pred = model.predict(X_val) # 예측 확률값\n",
        "    y_pred_proba = model.predict_proba(X_val)[:,1] # 1의 확률 array\n",
        "    get_clf_eval(y_val, y_pred, y_pred_proba)"
      ],
      "metadata": {
        "id": "PRCyYJ8lClGi"
      },
      "execution_count": null,
      "outputs": []
    },
    {
      "cell_type": "code",
      "source": [
        "get_model_eval(logistic_r, X_train_sampled, X_val, y_train_sampled, y_val)\n",
        "print('--------------------------------------------------------------')\n",
        "get_model_eval(decision_tree, X_train_sampled, X_val, y_train_sampled, y_val)"
      ],
      "metadata": {
        "id": "WNNR_q8CCnEo"
      },
      "execution_count": null,
      "outputs": []
    },
    {
      "cell_type": "code",
      "source": [
        "models = [decision_tree, randomforestclf]\n",
        "labels = ['DecisionTreeClassifier', 'RandomForestClassifier']\n",
        "\n",
        "for model, label in zip(models, labels):\n",
        "    scores = cross_val_score(\n",
        "        estimator = model, \n",
        "        X = X_train_sampled, y = y_train_sampled, \n",
        "        cv = 10, \n",
        "        scoring = 'roc_auc')\n",
        "    print(\"ROC AUC: %0.3f (+/- %0.3f) [%s]\" %(scores.mean(), scores.std(), label))\n",
        "    # ROC AUC: 0.928 (+/- 0.019) [DecisionTreeClassifier]\n",
        "    # ROC AUC: 0.978 (+/- 0.013) [RandomForestClassifier]"
      ],
      "metadata": {
        "id": "Qbcrz28vCxLz"
      },
      "execution_count": null,
      "outputs": []
    },
    {
      "cell_type": "code",
      "source": [
        "models = [decision_tree, randomforestclf]\n",
        "labels = ['DecisionTreeClassifier', 'RandomForestClassifier']\n",
        "linestyles = ['-', '--']\n",
        "colors = ['orange', 'blue']\n",
        "\n",
        "for model, label, color, ls in zip(models, labels, colors, linestyles):\n",
        "    model.fit(X_train_sampled, y_train_sampled)\n",
        "    pred_proba = model.predict_proba(X_val)[:,1]\n",
        "\n",
        "    fpr, tpr, thresholds = roc_curve(y_val, pred_proba)\n",
        "    roc = pd.DataFrame({\n",
        "        'FPR(Fall-out)': fpr,\n",
        "        'TPR(Recall)': tpr,\n",
        "        'Threshold': thresholds\n",
        "    })\n",
        "    plt.plot(fpr, tpr, linestyle = ls, label = '%s (auc = %0.3f)' %(label, auc(fpr, tpr)))\n",
        "\n",
        "plt.legend(loc = 'lower right')\n",
        "plt.grid(alpha = 0.4)\n",
        "plt.title('ROC curve (RF)')\n",
        "plt.xlabel('FPR(Fall-out)')\n",
        "plt.ylabel('TPR(Recall)')\n",
        "plt.plot([0, 1], [0, 1], linestyle = ':', color = 'grey', linewidth = 2)\n",
        "\n",
        "plt.show()"
      ],
      "metadata": {
        "id": "fAWkThAKDH4R"
      },
      "execution_count": null,
      "outputs": []
    },
    {
      "cell_type": "code",
      "source": [
        "get_model_eval(randomforestclf, X_train_sampled, X_val, y_train_sampled, y_val)"
      ],
      "metadata": {
        "id": "VvegyON4DUQj"
      },
      "execution_count": null,
      "outputs": []
    },
    {
      "cell_type": "code",
      "source": [
        "models = [xgboost, adaboost]\n",
        "labels = ['XGBClassifier', 'AdaBoostClassifier']\n",
        "\n",
        "for model, label in zip(models, labels):\n",
        "    scores = cross_val_score(\n",
        "        estimator = model, \n",
        "        X = X_train_sampled, y = y_train_sampled, \n",
        "        cv = 10, \n",
        "        scoring = 'roc_auc')\n",
        "    print(\"ROC AUC: %0.3f (+/- %0.3f) [%s]\" %(scores.mean(), scores.std(), label))\n",
        "\n",
        "# ROC AUC: 0.985 (+/- 0.010) [XGBClassifier]\n",
        "# ROC AUC: 0.949 (+/- 0.013) [AdaBoostClassifier]"
      ],
      "metadata": {
        "id": "UdsXGer9DwCp"
      },
      "execution_count": null,
      "outputs": []
    },
    {
      "cell_type": "code",
      "source": [
        "models = [xgboost, adaboost]\n",
        "labels = ['XGBClassifier', 'AdaBoostClassifier']\n",
        "linestyles = ['-', '--']\n",
        "colors = ['orange', 'blue']\n",
        "\n",
        "for model, label, color, ls in zip(models, labels, colors, linestyles):\n",
        "    model.fit(X_train_sampled, y_train_sampled)\n",
        "    pred_proba = model.predict_proba(X_val)[:,1]\n",
        "\n",
        "    fpr, tpr, thresholds = roc_curve(y_val, pred_proba)\n",
        "    roc = pd.DataFrame({\n",
        "        'FPR(Fall-out)': fpr,\n",
        "        'TPR(Recall)': tpr,\n",
        "        'Threshold': thresholds\n",
        "    })\n",
        "    plt.plot(fpr, tpr, linestyle = ls, label = '%s (auc = %0.3f)' %(label, auc(fpr, tpr)))\n",
        "\n",
        "plt.legend(loc = 'lower right')\n",
        "plt.grid(alpha = 0.4)\n",
        "plt.title('ROC curve (RF)')\n",
        "plt.xlabel('FPR(Fall-out)')\n",
        "plt.ylabel('TPR(Recall)')\n",
        "plt.plot([0, 1], [0, 1], linestyle = ':', color = 'grey', linewidth = 2)\n",
        "\n",
        "plt.show()"
      ],
      "metadata": {
        "id": "Uqln2ImNDyVI"
      },
      "execution_count": null,
      "outputs": []
    },
    {
      "cell_type": "code",
      "source": [
        "get_model_eval(xgboost, X_train_sampled, X_val, y_train_sampled, y_val)\n",
        "print('--------------------------------------------------------------')\n",
        "get_model_eval(adaboost, X_train_sampled, X_val, y_train_sampled, y_val)"
      ],
      "metadata": {
        "id": "rnhjwmpsEAiZ"
      },
      "execution_count": null,
      "outputs": []
    },
    {
      "cell_type": "code",
      "source": [
        "table = BeautifulTable()\n",
        "table.column_headers = ['Model Name', 'Precision', 'Recall', 'F1 Score', 'ROC AUC Score','Accuracy']\n",
        "table.append_row(['Logistic Regression', '0.9651', '0.5940', '0.7354', '0.5862', '0.5912'])\n",
        "table.append_row(['Decision Tree', '0.9649', '0.9059', '0.9345', '0.5899','0.8786'])\n",
        "table.append_row(['RandomForest', '0.9635', '0.9229', '0.9428', '0.7136','0.8929'])\n",
        "table.append_row(['XGBoost', '0.9677', '0.9327', '0.9499', '0.7884','0.9059'])\n",
        "table.append_row(['AdaBoost', '0.9632', '0.9085', '0.9351', '0.5863','0.8793'])\n",
        "print(table)\n",
        "# logist\n"
      ],
      "metadata": {
        "id": "b8gvVaWgEHWh"
      },
      "execution_count": null,
      "outputs": []
    },
    {
      "cell_type": "markdown",
      "source": [
        "모델 선택: fl-score+ROC score + Accuracy 모두 고려했ㅇㄹ 때 XGBoost가 가장 이상적인 모델"
      ],
      "metadata": {
        "id": "y41GJgKXLA5M"
      }
    },
    {
      "cell_type": "code",
      "source": [
        "%%time\n",
        "#Hyperparameter optimization using RandomizedSearchCV\n",
        "from sklearn.model_selection import RandomizedSearchCV\n",
        "import xgboost\n",
        "classifier = xgboost.XGBClassifier()\n",
        "\n",
        "params = {'learning_rate' : [0.05,0.10,0.15,0.20,0.25,0.30],\n",
        " 'max_depth' : [ 3, 4, 5, 6, 8, 10, 12, 15],\n",
        " 'min_child_weight' : [ 1, 3, 5, 7 ],\n",
        " 'gamma': [ 0.0, 0.1, 0.2 , 0.3, 0.4 ],\n",
        " 'colsample_bytree' : [ 0.3, 0.4, 0.5 , 0.7 ]\n",
        "}\n",
        "\n",
        "rs_model=RandomizedSearchCV(classifier,param_distributions=params,n_iter=5,scoring='roc_auc',n_jobs=-1,cv=5,verbose=3)\n",
        "\n",
        "#너무 길어져서 적당한 양의 하이퍼파라미터만 사용\n",
        "#model fitting\n",
        "rs_model.fit(X_train_sampled, y_train_sampled)"
      ],
      "metadata": {
        "id": "73sC_EcU_b3y"
      },
      "execution_count": null,
      "outputs": []
    },
    {
      "cell_type": "code",
      "source": [
        "print(\"Optimal Hyperparameter:\", rs_model.best_params_)\n",
        "print(\"ROC_AUC:\", rs_model.best_score_)\n",
        "classifier = rs_model.best_estimator_"
      ],
      "metadata": {
        "id": "gepEDWVh_j0S"
      },
      "execution_count": null,
      "outputs": []
    },
    {
      "cell_type": "code",
      "source": [
        "from sklearn.model_selection import cross_val_score\n",
        "score=cross_val_score(classifier,X_val_encoded,y_val,cv=10)\n",
        "score"
      ],
      "metadata": {
        "id": "ZdNqWrRf_dLk"
      },
      "execution_count": null,
      "outputs": []
    },
    {
      "cell_type": "code",
      "source": [
        "print(cross_val_score(classifier,X_test_encoded,y_test))\n",
        "y_test_pred = classifier.predict(X_test_encoded)\n",
        "print(classification_report(y_test, y_test_pred))\n",
        "plot_confusion_matrix(classifier, X_test_encoded, y_test)"
      ],
      "metadata": {
        "id": "Se5NO7pe_tF6"
      },
      "execution_count": null,
      "outputs": []
    },
    {
      "cell_type": "code",
      "source": [
        "import shap\n",
        "row = X_test.iloc[[1]]\n",
        "\n",
        "explainer = shap.TreeExplainer(classifier)\n",
        "row_processed = encoder.transform(row)\n",
        "shap_values = explainer.shap_values(row_processed)\n",
        "\n",
        "shap.initjs()\n",
        "shap.force_plot(\n",
        "    base_value=explainer.expected_value, \n",
        "    shap_values=shap_values, \n",
        "    features=row, \n",
        "    link='logit' # SHAP value를 확률로 변환해 표시합니다.\n",
        "    )"
      ],
      "metadata": {
        "id": "8k2QwdpSHJjL"
      },
      "execution_count": null,
      "outputs": []
    },
    {
      "cell_type": "code",
      "source": [
        "shap_values = explainer.shap_values(X_test.iloc[:500])\n",
        "shap.summary_plot(shap_values, X_test.iloc[:500])"
      ],
      "metadata": {
        "id": "irnrzoI4BtEh"
      },
      "execution_count": null,
      "outputs": []
    },
    {
      "cell_type": "code",
      "source": [
        "import warnings\n",
        "warnings.simplefilter(action = 'ignore', category = FutureWarning)\n",
        "\n",
        "import eli5\n",
        "from eli5.sklearn import PermutationImportance\n",
        "permuter = PermutationImportance(\n",
        "    classifier,\n",
        "    scoring = 'roc_auc', \n",
        "    n_iter = 5\n",
        "    )\n",
        "\n",
        "permuter.fit(X_test, y_test)\n",
        "feature_names = X_test.columns.tolist()\n",
        "pd.Series(permuter.feature_importances_, feature_names).sort_values()"
      ],
      "metadata": {
        "id": "aEmt28dcHjnr"
      },
      "execution_count": null,
      "outputs": []
    },
    {
      "cell_type": "code",
      "source": [
        "eli5.show_weights(\n",
        "    permuter, \n",
        "    top = None, \n",
        "    feature_names = feature_names\n",
        "    )\n"
      ],
      "metadata": {
        "id": "XlFQM8L7H4BT"
      },
      "execution_count": null,
      "outputs": []
    },
    {
      "cell_type": "code",
      "source": [
        "y_train.value_counts(normalize = True)"
      ],
      "metadata": {
        "id": "6uCVA1UDOL3y"
      },
      "execution_count": null,
      "outputs": []
    },
    {
      "cell_type": "code",
      "source": [
        "ratio = 0.04/0.96 # 클래스 비율 0 / 1 (약 10 / 90)\n",
        "ratio"
      ],
      "metadata": {
        "id": "MLDkeZ7CP8ZT"
      },
      "execution_count": null,
      "outputs": []
    },
    {
      "cell_type": "code",
      "source": [
        "eval_set1 = [(X_train, y_train), \n",
        "            (X_val, y_val)]\n",
        "eval_set2 = [(X_train_sampled, y_train_sampled), \n",
        "            (X_val, y_val)]"
      ],
      "metadata": {
        "id": "vwjt-pgpQDtq"
      },
      "execution_count": null,
      "outputs": []
    },
    {
      "cell_type": "code",
      "source": [
        "from xgboost import XGBClassifier\n",
        "model1 = XGBClassifier(n_estimators=1000, verbosity=0, n_jobs=-1, scale_pos_weight=ratio)\n",
        "model1.fit(X_train, y_train, eval_set = eval_set1, eval_metric = 'auc', early_stopping_rounds=10)"
      ],
      "metadata": {
        "id": "mWHbrCxgQJbr"
      },
      "execution_count": null,
      "outputs": []
    },
    {
      "cell_type": "code",
      "source": [
        "model2 = XGBClassifier(n_estimators=1000, verbosity=0, n_jobs=-1, scale_pos_weight = 1) # 0.5/0.5\n",
        "model2.fit(X_train_sampled, y_train_sampled, eval_set = eval_set2, eval_metric = 'auc', \n",
        "          early_stopping_rounds=10)"
      ],
      "metadata": {
        "id": "rbx7gaYxQPLD"
      },
      "execution_count": null,
      "outputs": []
    },
    {
      "cell_type": "code",
      "source": [
        "# from sklearn.metrics import roc_auc_score 1\n",
        "class_index = 1\n",
        "y_pred_proba1 = model1.predict_proba(X_test)[:, class_index]\n",
        "print(f'Test AUC for class \"{model1.classes_[class_index]}\":')\n",
        "print(roc_auc_score(y_test, y_pred_proba1)) # 범위는 0~1, 수치는 높을수록 좋다"
      ],
      "metadata": {
        "id": "IZ4ggkxJQlx7"
      },
      "execution_count": null,
      "outputs": []
    },
    {
      "cell_type": "code",
      "source": [
        "# from sklearn.metrics import roc_auc_score 2\n",
        "class_index = 1\n",
        "y_pred_proba2 = model2.predict_proba(X_test)[:, class_index]\n",
        "print(f'Test AUC for class (Oversampling) \"{model2.classes_[class_index]}\":')\n",
        "print(roc_auc_score(y_test, y_pred_proba2)) # 범위는 0~1, 수치는 높을수록 좋다"
      ],
      "metadata": {
        "id": "_k76IUXwQnW7"
      },
      "execution_count": null,
      "outputs": []
    },
    {
      "cell_type": "code",
      "source": [
        "# Confusion Matrix 확인1\n",
        "# from sklearn.metrics import classification_report\n",
        "y_test_pred1 = model1.predict(X_test)\n",
        "print(classification_report(y_test, y_test_pred1))"
      ],
      "metadata": {
        "id": "R_mddDpaQpcD"
      },
      "execution_count": null,
      "outputs": []
    },
    {
      "cell_type": "code",
      "source": [
        "# Confusion Matrix 확인2\n",
        "# from sklearn.metrics import classification_report\n",
        "y_test_pred2 = model2.predict(X_test)\n",
        "print(classification_report(y_test, y_test_pred2))"
      ],
      "metadata": {
        "id": "gWPVfC6KQspz"
      },
      "execution_count": null,
      "outputs": []
    },
    {
      "cell_type": "code",
      "source": [
        "# shap 그래프로 예측 설명\n",
        "import xgboost\n",
        "import shap\n",
        "\n",
        "explainer = shap.TreeExplainer(model1)\n",
        "shap_values = explainer.shap_values(row)\n",
        "\n",
        "shap.initjs()\n",
        "shap.force_plot(\n",
        "    base_value = explainer.expected_value, \n",
        "    shap_values = shap_values, \n",
        "    features = row, \n",
        "    link='logit' # SHAP value를 확률로 변환해 표시합니다.\n",
        ")"
      ],
      "metadata": {
        "id": "C6uFMp0YSezi"
      },
      "execution_count": null,
      "outputs": []
    },
    {
      "cell_type": "code",
      "source": [
        "# 예측을 shap 그래프를 통해 설명하는 함수\n",
        "feature_names = row.columns\n",
        "feature_values = row.values[0]\n",
        "shaps = pd.Series(shap_values[0], zip(feature_names, feature_values))\n",
        "\n",
        "pros = shaps.sort_values(ascending=False)[:3].index\n",
        "cons = shaps.sort_values(ascending=True)[:3].index\n",
        "\n",
        "print('responsed 예측에 대한 Positive 요인 Top 3 입니다:')\n",
        "for i, pro in enumerate(pros, start=1):\n",
        "    feature_name, feature_value = pro\n",
        "    print(f'{i}. {feature_name} : {feature_value}')\n",
        "\n",
        "print('\\n')\n",
        "print('Negative 요인 Top 3 입니다:')\n",
        "for i, con in enumerate(cons, start=1):\n",
        "    feature_name, feature_value = con\n",
        "    print(f'{i}. {feature_name} : {feature_value}')"
      ],
      "metadata": {
        "id": "fvJxhfJaSgNL"
      },
      "execution_count": null,
      "outputs": []
    },
    {
      "cell_type": "code",
      "source": [
        "def explain(row_number):\n",
        "    positive_class = 1\n",
        "    positive_class_index = 1\n",
        "\n",
        "    # row 값을 변환합니다\n",
        "    row = X_test.iloc[[row_number]]\n",
        "    # row_processed = processor.transform(row)\n",
        "\n",
        "    # 예측하고 예측확률을 얻습니다 \n",
        "    pred = model1.predict(row)[0] # row_processed\n",
        "    pred_proba = model1.predict_proba(row)[0, positive_class_index] # row_processed\n",
        "    pred_proba *= 100\n",
        "    if pred != positive_class:\n",
        "        pred_proba = 100 - pred_proba\n",
        "\n",
        "    # 예측결과와 확률값을 얻습니다\n",
        "    print(f'이 고객 응답율에 대한 예측결과는 {pred} 으로, 확률은 {pred_proba:.0f}% 입니다.')\n",
        "    \n",
        "    # SHAP를 추가합니다\n",
        "    shap_values = explainer.shap_values(row) # row_processed\n",
        "\n",
        "    # Fully Paid에 대한 top 3 pros, cons를 얻습니다\n",
        "    feature_names = row.columns\n",
        "    feature_values = row.values[0]\n",
        "    shaps = pd.Series(shap_values[0], zip(feature_names, feature_values))\n",
        "    pros = shaps.sort_values(ascending=False)[:3].index\n",
        "    cons = shaps.sort_values(ascending=True)[:3].index\n",
        "\n",
        "    # 예측에 가장 영향을 준 top3\n",
        "    print('\\n')\n",
        "    print('Positive 영향을 가장 많이 주는 3가지 요인 입니다:')\n",
        "    \n",
        "    evidence = pros if pred == positive_class else cons\n",
        "    for i, info in enumerate(evidence, start=1):\n",
        "        feature_name, feature_value = info\n",
        "        print(f'{i}. {feature_name} : {feature_value}')\n",
        "\n",
        "    # 예측에 가장 반대적인 영향을 준 요인 top1\n",
        "    print('\\n')\n",
        "    print('Negative 영향을 가장 많이 주는 3가지 요인 입니다:')\n",
        "    \n",
        "    evidence = cons if pred == positive_class else pros\n",
        "    for i, info in enumerate(evidence, start=1):\n",
        "        feature_name, feature_value = info\n",
        "        print(f'{i}. {feature_name} : {feature_value}')\n",
        "\n",
        "    # SHAP\n",
        "    shap.initjs()\n",
        "    return shap.force_plot(\n",
        "        base_value=explainer.expected_value, \n",
        "        shap_values=shap_values, \n",
        "        features=row, \n",
        "        link='logit'\n",
        "    )"
      ],
      "metadata": {
        "id": "PwT8F7M3SpFK"
      },
      "execution_count": null,
      "outputs": []
    },
    {
      "cell_type": "code",
      "source": [
        "explain(37)"
      ],
      "metadata": {
        "id": "T8MmJFhwSzj7"
      },
      "execution_count": null,
      "outputs": []
    }
  ]
}